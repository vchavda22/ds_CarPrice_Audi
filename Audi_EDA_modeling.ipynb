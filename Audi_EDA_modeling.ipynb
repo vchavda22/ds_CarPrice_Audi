{
 "cells": [
  {
   "cell_type": "code",
   "execution_count": 106,
   "metadata": {},
   "outputs": [],
   "source": [
    "import pandas as pd\n",
    "import numpy as np\n",
    "import matplotlib.pyplot as plt\n",
    "import seaborn as sns\n",
    "%matplotlib inline\n"
   ]
  },
  {
   "cell_type": "code",
   "execution_count": 107,
   "metadata": {},
   "outputs": [],
   "source": [
    "df_audi = pd.read_csv(\"audi.csv\")"
   ]
  },
  {
   "cell_type": "code",
   "execution_count": 108,
   "metadata": {},
   "outputs": [
    {
     "data": {
      "text/plain": [
       "(10668, 9)"
      ]
     },
     "execution_count": 108,
     "metadata": {},
     "output_type": "execute_result"
    }
   ],
   "source": [
    "df_audi.shape"
   ]
  },
  {
   "cell_type": "code",
   "execution_count": 109,
   "metadata": {},
   "outputs": [
    {
     "data": {
      "text/plain": [
       "Index(['model', 'year', 'price', 'transmission', 'mileage', 'fuelType', 'tax',\n",
       "       'mpg', 'engineSize'],\n",
       "      dtype='object')"
      ]
     },
     "execution_count": 109,
     "metadata": {},
     "output_type": "execute_result"
    }
   ],
   "source": [
    "df_audi.columns"
   ]
  },
  {
   "cell_type": "code",
   "execution_count": 110,
   "metadata": {},
   "outputs": [
    {
     "data": {
      "text/plain": [
       "model           0\n",
       "year            0\n",
       "price           0\n",
       "transmission    0\n",
       "mileage         0\n",
       "fuelType        0\n",
       "tax             0\n",
       "mpg             0\n",
       "engineSize      0\n",
       "dtype: int64"
      ]
     },
     "execution_count": 110,
     "metadata": {},
     "output_type": "execute_result"
    }
   ],
   "source": [
    "df_audi.isnull().sum()"
   ]
  },
  {
   "cell_type": "code",
   "execution_count": 111,
   "metadata": {},
   "outputs": [],
   "source": [
    "df_audi['diesel_yn'] = df_audi['fuelType'].apply(lambda x: 1 if 'diesel' in x.lower() else 0)\n",
    "df_audi['petrol_yn'] = df_audi['fuelType'].apply(lambda x: 1 if 'petrol' in x.lower() else 0)\n",
    "df_audi['hybrid_yn'] = df_audi['fuelType'].apply(lambda x: 1 if 'hybrid' in x.lower() else 0)\n",
    "# splitting data based on transmission\n",
    "df_audi['manual_yn'] = df_audi['transmission'].apply(lambda x: 1 if 'manual' in x.lower() else 0)\n",
    "df_audi['semi_automatic_yn'] = df_audi['transmission'].apply(lambda x: 1 if 'semi-auto' in x.lower() else 0)\n",
    "df_audi['automatic_yn'] = df_audi['transmission'].apply(lambda x: 1 if 'automatic' in x.lower() else 0)"
   ]
  },
  {
   "cell_type": "code",
   "execution_count": 112,
   "metadata": {},
   "outputs": [],
   "source": [
    "df_audi['age'] = df_audi.year.apply(lambda x: x if x < 1 else 2020 - x)"
   ]
  },
  {
   "cell_type": "code",
   "execution_count": 113,
   "metadata": {},
   "outputs": [
    {
     "data": {
      "text/plain": [
       "Index(['model', 'year', 'price', 'transmission', 'mileage', 'fuelType', 'tax',\n",
       "       'mpg', 'engineSize', 'diesel_yn', 'petrol_yn', 'hybrid_yn', 'manual_yn',\n",
       "       'semi_automatic_yn', 'automatic_yn', 'age'],\n",
       "      dtype='object')"
      ]
     },
     "execution_count": 113,
     "metadata": {},
     "output_type": "execute_result"
    }
   ],
   "source": [
    "df_audi.columns"
   ]
  },
  {
   "cell_type": "code",
   "execution_count": 114,
   "metadata": {},
   "outputs": [
    {
     "data": {
      "text/plain": [
       " A3     1929\n",
       " Q3     1417\n",
       " A4     1381\n",
       " A1     1347\n",
       " A5      882\n",
       " Q5      877\n",
       " Q2      822\n",
       " A6      748\n",
       " Q7      397\n",
       " TT      336\n",
       " A7      122\n",
       " A8      118\n",
       " Q8       69\n",
       " RS6      39\n",
       " RS3      33\n",
       " RS4      31\n",
       " RS5      29\n",
       " R8       28\n",
       " S3       18\n",
       " SQ5      16\n",
       " S4       12\n",
       " SQ7       8\n",
       " S8        4\n",
       " S5        3\n",
       " RS7       1\n",
       " A2        1\n",
       "Name: model, dtype: int64"
      ]
     },
     "execution_count": 114,
     "metadata": {},
     "output_type": "execute_result"
    }
   ],
   "source": [
    "df_audi['model'].value_counts()"
   ]
  },
  {
   "cell_type": "code",
   "execution_count": 115,
   "metadata": {},
   "outputs": [
    {
     "data": {
      "text/plain": [
       "2.0    5169\n",
       "1.4    1594\n",
       "3.0    1149\n",
       "1.6     913\n",
       "1.5     744\n",
       "1.0     558\n",
       "4.0     154\n",
       "1.8     126\n",
       "2.5      61\n",
       "0.0      57\n",
       "2.9      49\n",
       "1.2      31\n",
       "4.2      25\n",
       "5.2      23\n",
       "3.2       5\n",
       "1.9       4\n",
       "2.7       3\n",
       "4.1       2\n",
       "6.3       1\n",
       "Name: engineSize, dtype: int64"
      ]
     },
     "execution_count": 115,
     "metadata": {},
     "output_type": "execute_result"
    }
   ],
   "source": [
    "df_audi['engineSize'].value_counts()"
   ]
  },
  {
   "cell_type": "code",
   "execution_count": 116,
   "metadata": {},
   "outputs": [],
   "source": [
    "#df_audi.to_csv('Cleaned/audi_data_cleaned_vc.csv', index=False)"
   ]
  },
  {
   "cell_type": "code",
   "execution_count": 117,
   "metadata": {},
   "outputs": [
    {
     "data": {
      "text/html": [
       "<div>\n",
       "<style scoped>\n",
       "    .dataframe tbody tr th:only-of-type {\n",
       "        vertical-align: middle;\n",
       "    }\n",
       "\n",
       "    .dataframe tbody tr th {\n",
       "        vertical-align: top;\n",
       "    }\n",
       "\n",
       "    .dataframe thead th {\n",
       "        text-align: right;\n",
       "    }\n",
       "</style>\n",
       "<table border=\"1\" class=\"dataframe\">\n",
       "  <thead>\n",
       "    <tr style=\"text-align: right;\">\n",
       "      <th></th>\n",
       "      <th>age</th>\n",
       "      <th>mileage</th>\n",
       "      <th>mpg</th>\n",
       "      <th>tax</th>\n",
       "      <th>engineSize</th>\n",
       "      <th>price</th>\n",
       "    </tr>\n",
       "  </thead>\n",
       "  <tbody>\n",
       "    <tr>\n",
       "      <th>age</th>\n",
       "      <td>1.000000</td>\n",
       "      <td>0.789667</td>\n",
       "      <td>0.351281</td>\n",
       "      <td>-0.093066</td>\n",
       "      <td>0.031582</td>\n",
       "      <td>-0.592581</td>\n",
       "    </tr>\n",
       "    <tr>\n",
       "      <th>mileage</th>\n",
       "      <td>0.789667</td>\n",
       "      <td>1.000000</td>\n",
       "      <td>0.395103</td>\n",
       "      <td>-0.166547</td>\n",
       "      <td>0.070710</td>\n",
       "      <td>-0.535357</td>\n",
       "    </tr>\n",
       "    <tr>\n",
       "      <th>mpg</th>\n",
       "      <td>0.351281</td>\n",
       "      <td>0.395103</td>\n",
       "      <td>1.000000</td>\n",
       "      <td>-0.635909</td>\n",
       "      <td>-0.365621</td>\n",
       "      <td>-0.600334</td>\n",
       "    </tr>\n",
       "    <tr>\n",
       "      <th>tax</th>\n",
       "      <td>-0.093066</td>\n",
       "      <td>-0.166547</td>\n",
       "      <td>-0.635909</td>\n",
       "      <td>1.000000</td>\n",
       "      <td>0.393075</td>\n",
       "      <td>0.356157</td>\n",
       "    </tr>\n",
       "    <tr>\n",
       "      <th>engineSize</th>\n",
       "      <td>0.031582</td>\n",
       "      <td>0.070710</td>\n",
       "      <td>-0.365621</td>\n",
       "      <td>0.393075</td>\n",
       "      <td>1.000000</td>\n",
       "      <td>0.591262</td>\n",
       "    </tr>\n",
       "    <tr>\n",
       "      <th>price</th>\n",
       "      <td>-0.592581</td>\n",
       "      <td>-0.535357</td>\n",
       "      <td>-0.600334</td>\n",
       "      <td>0.356157</td>\n",
       "      <td>0.591262</td>\n",
       "      <td>1.000000</td>\n",
       "    </tr>\n",
       "  </tbody>\n",
       "</table>\n",
       "</div>"
      ],
      "text/plain": [
       "                 age   mileage       mpg       tax  engineSize     price\n",
       "age         1.000000  0.789667  0.351281 -0.093066    0.031582 -0.592581\n",
       "mileage     0.789667  1.000000  0.395103 -0.166547    0.070710 -0.535357\n",
       "mpg         0.351281  0.395103  1.000000 -0.635909   -0.365621 -0.600334\n",
       "tax        -0.093066 -0.166547 -0.635909  1.000000    0.393075  0.356157\n",
       "engineSize  0.031582  0.070710 -0.365621  0.393075    1.000000  0.591262\n",
       "price      -0.592581 -0.535357 -0.600334  0.356157    0.591262  1.000000"
      ]
     },
     "execution_count": 117,
     "metadata": {},
     "output_type": "execute_result"
    }
   ],
   "source": [
    "df_audi[ ['age','mileage','mpg','tax','engineSize','price']].corr()"
   ]
  },
  {
   "cell_type": "code",
   "execution_count": 118,
   "metadata": {},
   "outputs": [
    {
     "data": {
      "text/plain": [
       "count     10668.000000\n",
       "mean      22896.685039\n",
       "std       11714.841888\n",
       "min        1490.000000\n",
       "25%       15130.750000\n",
       "50%       20200.000000\n",
       "75%       27990.000000\n",
       "max      145000.000000\n",
       "Name: price, dtype: float64"
      ]
     },
     "execution_count": 118,
     "metadata": {},
     "output_type": "execute_result"
    }
   ],
   "source": [
    "df_audi['price'].describe()"
   ]
  },
  {
   "cell_type": "code",
   "execution_count": 119,
   "metadata": {},
   "outputs": [
    {
     "data": {
      "text/plain": [
       "<matplotlib.axes._subplots.AxesSubplot at 0x7f8c155c4400>"
      ]
     },
     "execution_count": 119,
     "metadata": {},
     "output_type": "execute_result"
    },
    {
     "data": {
      "image/png": "[encoded data removed]",
      "text/plain": [
       "<Figure size 432x288 with 1 Axes>"
      ]
     },
     "metadata": {
      "needs_background": "light"
     },
     "output_type": "display_data"
    }
   ],
   "source": [
    "df_audi['price'].hist()"
   ]
  },
  {
   "cell_type": "code",
   "execution_count": 120,
   "metadata": {},
   "outputs": [
    {
     "data": {
      "text/plain": [
       "<matplotlib.axes._subplots.AxesSubplot at 0x7f8c15880748>"
      ]
     },
     "execution_count": 120,
     "metadata": {},
     "output_type": "execute_result"
    },
    {
     "data": {
      "image/png": "[encoded data removed]",
      "text/plain": [
       "<Figure size 432x288 with 1 Axes>"
      ]
     },
     "metadata": {
      "needs_background": "light"
     },
     "output_type": "display_data"
    }
   ],
   "source": [
    "df_audi.boxplot(column=['price'])"
   ]
  },
  {
   "cell_type": "code",
   "execution_count": 121,
   "metadata": {},
   "outputs": [
    {
     "data": {
      "text/plain": [
       "<matplotlib.axes._subplots.AxesSubplot at 0x7f8bf64fc668>"
      ]
     },
     "execution_count": 121,
     "metadata": {},
     "output_type": "execute_result"
    },
    {
     "data": {
      "image/png": "[encoded data removed]",
      "text/plain": [
       "<Figure size 432x288 with 1 Axes>"
      ]
     },
     "metadata": {
      "needs_background": "light"
     },
     "output_type": "display_data"
    }
   ],
   "source": [
    "df_audi.year.hist()"
   ]
  },
  {
   "cell_type": "code",
   "execution_count": 122,
   "metadata": {},
   "outputs": [
    {
     "data": {
      "text/plain": [
       "<matplotlib.axes._subplots.AxesSubplot at 0x7f8bf66a1828>"
      ]
     },
     "execution_count": 122,
     "metadata": {},
     "output_type": "execute_result"
    },
    {
     "data": {
      "image/png": "[encoded data removed]",
      "text/plain": [
       "<Figure size 432x288 with 1 Axes>"
      ]
     },
     "metadata": {
      "needs_background": "light"
     },
     "output_type": "display_data"
    }
   ],
   "source": [
    "df_audi['age'].hist()"
   ]
  },
  {
   "cell_type": "code",
   "execution_count": 123,
   "metadata": {},
   "outputs": [
    {
     "data": {
      "text/html": [
       "<div>\n",
       "<style scoped>\n",
       "    .dataframe tbody tr th:only-of-type {\n",
       "        vertical-align: middle;\n",
       "    }\n",
       "\n",
       "    .dataframe tbody tr th {\n",
       "        vertical-align: top;\n",
       "    }\n",
       "\n",
       "    .dataframe thead th {\n",
       "        text-align: right;\n",
       "    }\n",
       "</style>\n",
       "<table border=\"1\" class=\"dataframe\">\n",
       "  <thead>\n",
       "    <tr style=\"text-align: right;\">\n",
       "      <th></th>\n",
       "      <th>model</th>\n",
       "      <th>year</th>\n",
       "      <th>price</th>\n",
       "      <th>transmission</th>\n",
       "      <th>mileage</th>\n",
       "      <th>fuelType</th>\n",
       "      <th>tax</th>\n",
       "      <th>mpg</th>\n",
       "      <th>engineSize</th>\n",
       "      <th>diesel_yn</th>\n",
       "      <th>petrol_yn</th>\n",
       "      <th>hybrid_yn</th>\n",
       "      <th>manual_yn</th>\n",
       "      <th>semi_automatic_yn</th>\n",
       "      <th>automatic_yn</th>\n",
       "      <th>age</th>\n",
       "    </tr>\n",
       "  </thead>\n",
       "  <tbody>\n",
       "    <tr>\n",
       "      <th>9788</th>\n",
       "      <td>A3</td>\n",
       "      <td>1998</td>\n",
       "      <td>4999</td>\n",
       "      <td>Automatic</td>\n",
       "      <td>55000</td>\n",
       "      <td>Petrol</td>\n",
       "      <td>265</td>\n",
       "      <td>30.4</td>\n",
       "      <td>1.8</td>\n",
       "      <td>0</td>\n",
       "      <td>1</td>\n",
       "      <td>0</td>\n",
       "      <td>0</td>\n",
       "      <td>0</td>\n",
       "      <td>1</td>\n",
       "      <td>22</td>\n",
       "    </tr>\n",
       "    <tr>\n",
       "      <th>10427</th>\n",
       "      <td>A8</td>\n",
       "      <td>1997</td>\n",
       "      <td>4650</td>\n",
       "      <td>Automatic</td>\n",
       "      <td>122000</td>\n",
       "      <td>Petrol</td>\n",
       "      <td>265</td>\n",
       "      <td>18.9</td>\n",
       "      <td>4.2</td>\n",
       "      <td>0</td>\n",
       "      <td>1</td>\n",
       "      <td>0</td>\n",
       "      <td>0</td>\n",
       "      <td>0</td>\n",
       "      <td>1</td>\n",
       "      <td>23</td>\n",
       "    </tr>\n",
       "  </tbody>\n",
       "</table>\n",
       "</div>"
      ],
      "text/plain": [
       "      model  year  price transmission  mileage fuelType  tax   mpg  \\\n",
       "9788     A3  1998   4999    Automatic    55000   Petrol  265  30.4   \n",
       "10427    A8  1997   4650    Automatic   122000   Petrol  265  18.9   \n",
       "\n",
       "       engineSize  diesel_yn  petrol_yn  hybrid_yn  manual_yn  \\\n",
       "9788          1.8          0          1          0          0   \n",
       "10427         4.2          0          1          0          0   \n",
       "\n",
       "       semi_automatic_yn  automatic_yn  age  \n",
       "9788                   0             1   22  \n",
       "10427                  0             1   23  "
      ]
     },
     "execution_count": 123,
     "metadata": {},
     "output_type": "execute_result"
    }
   ],
   "source": [
    "df_audi[df_audi['year'] < 2000]"
   ]
  },
  {
   "cell_type": "code",
   "execution_count": 124,
   "metadata": {},
   "outputs": [],
   "source": [
    "df_audi = df_audi[df_audi['year'] < 2021]\n"
   ]
  },
  {
   "cell_type": "code",
   "execution_count": 125,
   "metadata": {},
   "outputs": [
    {
     "data": {
      "text/html": [
       "<div>\n",
       "<style scoped>\n",
       "    .dataframe tbody tr th:only-of-type {\n",
       "        vertical-align: middle;\n",
       "    }\n",
       "\n",
       "    .dataframe tbody tr th {\n",
       "        vertical-align: top;\n",
       "    }\n",
       "\n",
       "    .dataframe thead th {\n",
       "        text-align: right;\n",
       "    }\n",
       "</style>\n",
       "<table border=\"1\" class=\"dataframe\">\n",
       "  <thead>\n",
       "    <tr style=\"text-align: right;\">\n",
       "      <th></th>\n",
       "      <th>model</th>\n",
       "      <th>year</th>\n",
       "      <th>price</th>\n",
       "      <th>transmission</th>\n",
       "      <th>mileage</th>\n",
       "      <th>fuelType</th>\n",
       "      <th>tax</th>\n",
       "      <th>mpg</th>\n",
       "      <th>engineSize</th>\n",
       "      <th>diesel_yn</th>\n",
       "      <th>petrol_yn</th>\n",
       "      <th>hybrid_yn</th>\n",
       "      <th>manual_yn</th>\n",
       "      <th>semi_automatic_yn</th>\n",
       "      <th>automatic_yn</th>\n",
       "      <th>age</th>\n",
       "    </tr>\n",
       "  </thead>\n",
       "  <tbody>\n",
       "  </tbody>\n",
       "</table>\n",
       "</div>"
      ],
      "text/plain": [
       "Empty DataFrame\n",
       "Columns: [model, year, price, transmission, mileage, fuelType, tax, mpg, engineSize, diesel_yn, petrol_yn, hybrid_yn, manual_yn, semi_automatic_yn, automatic_yn, age]\n",
       "Index: []"
      ]
     },
     "execution_count": 125,
     "metadata": {},
     "output_type": "execute_result"
    }
   ],
   "source": [
    "df_audi[df_audi['year'] > 2020]"
   ]
  },
  {
   "cell_type": "code",
   "execution_count": 126,
   "metadata": {},
   "outputs": [
    {
     "data": {
      "text/plain": [
       "<matplotlib.axes._subplots.AxesSubplot at 0x7f8bf6885e48>"
      ]
     },
     "execution_count": 126,
     "metadata": {},
     "output_type": "execute_result"
    },
    {
     "data": {
      "image/png": "[encoded data removed]",
      "text/plain": [
       "<Figure size 432x288 with 1 Axes>"
      ]
     },
     "metadata": {
      "needs_background": "light"
     },
     "output_type": "display_data"
    }
   ],
   "source": [
    "df_audi.year.hist()"
   ]
  },
  {
   "cell_type": "code",
   "execution_count": 127,
   "metadata": {},
   "outputs": [],
   "source": [
    "df_audi.to_csv('Cleaned/audi_data_cleaned_vc.csv', index=False)"
   ]
  },
  {
   "cell_type": "code",
   "execution_count": 128,
   "metadata": {},
   "outputs": [
    {
     "data": {
      "text/plain": [
       "<matplotlib.axes._subplots.AxesSubplot at 0x7f8bf695a940>"
      ]
     },
     "execution_count": 128,
     "metadata": {},
     "output_type": "execute_result"
    },
    {
     "data": {
      "image/png": "[encoded data removed]",
      "text/plain": [
       "<Figure size 432x288 with 1 Axes>"
      ]
     },
     "metadata": {
      "needs_background": "light"
     },
     "output_type": "display_data"
    }
   ],
   "source": [
    "df_audi['age'].hist()"
   ]
  },
  {
   "cell_type": "markdown",
   "metadata": {},
   "source": [
    "## Time to fit the data"
   ]
  },
  {
   "cell_type": "code",
   "execution_count": 129,
   "metadata": {},
   "outputs": [],
   "source": [
    "df_audi['A_Series_yn'] = df_audi['model'].apply(lambda x: 1 if 'a' in x.lower() else 0)\n",
    "df_audi['T_Series_yn'] = df_audi['model'].apply(lambda x: 1 if 't' in x.lower() else 0)\n",
    "df_audi['S_Series_yn'] = df_audi['model'].apply(lambda x: 1 if 's' in x.lower() else 0)\n",
    "df_audi['R_Series_yn'] = df_audi['model'].apply(lambda x: 1 if 'r' in x.lower() else 0)\n",
    "df_audi['Q_Series_yn'] = df_audi['model'].apply(lambda x: 1 if 'q' in x.lower() else 0)"
   ]
  },
  {
   "cell_type": "code",
   "execution_count": 130,
   "metadata": {},
   "outputs": [
    {
     "data": {
      "text/plain": [
       "Index(['model', 'year', 'price', 'transmission', 'mileage', 'fuelType', 'tax',\n",
       "       'mpg', 'engineSize', 'diesel_yn', 'petrol_yn', 'hybrid_yn', 'manual_yn',\n",
       "       'semi_automatic_yn', 'automatic_yn', 'age', 'A_Series_yn',\n",
       "       'T_Series_yn', 'S_Series_yn', 'R_Series_yn', 'Q_Series_yn'],\n",
       "      dtype='object')"
      ]
     },
     "execution_count": 130,
     "metadata": {},
     "output_type": "execute_result"
    }
   ],
   "source": [
    "df_audi.columns"
   ]
  },
  {
   "cell_type": "code",
   "execution_count": 131,
   "metadata": {},
   "outputs": [],
   "source": [
    "\n",
    "df_model = df_audi[['price', 'mileage',\n",
    "       'age','tax','mpg','engineSize', 'diesel_yn', 'petrol_yn',\n",
    "       'hybrid_yn', 'manual_yn', 'semi_automatic_yn', 'automatic_yn','A_Series_yn',\n",
    "       'T_Series_yn', 'S_Series_yn', 'R_Series_yn', 'Q_Series_yn']]\n"
   ]
  },
  {
   "cell_type": "code",
   "execution_count": 132,
   "metadata": {},
   "outputs": [],
   "source": [
    "df_dum = pd.get_dummies(df_model)"
   ]
  },
  {
   "cell_type": "code",
   "execution_count": 133,
   "metadata": {},
   "outputs": [],
   "source": [
    "X = df_dum.drop('price',axis=1)\n",
    "y = df_dum.price.values"
   ]
  },
  {
   "cell_type": "code",
   "execution_count": 134,
   "metadata": {},
   "outputs": [],
   "source": [
    "from sklearn.linear_model import LinearRegression, Lasso\n",
    "from sklearn.ensemble import RandomForestRegressor\n",
    "from sklearn.metrics import mean_absolute_error\n",
    "from sklearn.metrics import mean_squared_error\n",
    "from sklearn.metrics import r2_score\n",
    "\n",
    "from sklearn.model_selection import train_test_split\n",
    "X_train, X_test, y_train, y_test = train_test_split(X,y,test_size=0.3,random_state=42)"
   ]
  },
  {
   "cell_type": "code",
   "execution_count": 135,
   "metadata": {},
   "outputs": [
    {
     "name": "stdout",
     "output_type": "stream",
     "text": [
      "MAE : 3117.963811415198, RMSE :  4709.465982683625, R2 : 0.8412004769853174\n"
     ]
    }
   ],
   "source": [
    "lm = LinearRegression()\n",
    "lm.fit(X_train,y_train)\n",
    "pred_lm = lm.predict(X_test)\n",
    "print(f'MAE : {(mean_absolute_error(y_test, pred_lm))}, RMSE :  {np.sqrt((mean_squared_error(y_test, pred_lm)))}, R2 : {r2_score(y_test,pred_lm)}')"
   ]
  },
  {
   "cell_type": "code",
   "execution_count": 136,
   "metadata": {},
   "outputs": [
    {
     "name": "stdout",
     "output_type": "stream",
     "text": [
      "MAE : 1738.700631876293, RMSE :  2640.543142081544, R2 : 0.9500779512374117\n"
     ]
    }
   ],
   "source": [
    "rf = RandomForestRegressor()\n",
    "rf.fit(X_train,y_train)\n",
    "pred_rf = rf.predict(X_test)\n",
    "print(f'MAE : {(mean_absolute_error(y_test, pred_rf))}, RMSE :  {np.sqrt((mean_squared_error(y_test, pred_rf)))}, R2 : {r2_score(y_test,pred_rf)}')"
   ]
  },
  {
   "cell_type": "code",
   "execution_count": 137,
   "metadata": {},
   "outputs": [
    {
     "name": "stdout",
     "output_type": "stream",
     "text": [
      " TEST VALUE : 9990, PREDICTED VALUE :  9629.490922200785 DIFFERENCE : 360.50907779921545\n",
      " TEST VALUE : 22382, PREDICTED VALUE :  22574.076238233967 DIFFERENCE : -192.07623823396716\n",
      " TEST VALUE : 28990, PREDICTED VALUE :  28152.26380225874 DIFFERENCE : 837.7361977412584\n",
      " TEST VALUE : 30777, PREDICTED VALUE :  26257.443386678933 DIFFERENCE : 4519.556613321067\n",
      " TEST VALUE : 14950, PREDICTED VALUE :  12871.05590425474 DIFFERENCE : 2078.9440957452607\n",
      " TEST VALUE : 24365, PREDICTED VALUE :  26553.92646275455 DIFFERENCE : -2188.926462754549\n",
      " TEST VALUE : 30495, PREDICTED VALUE :  32080.085691969987 DIFFERENCE : -1585.0856919699872\n",
      " TEST VALUE : 29900, PREDICTED VALUE :  31304.8954212015 DIFFERENCE : -1404.8954212015014\n",
      " TEST VALUE : 15256, PREDICTED VALUE :  16606.743524329228 DIFFERENCE : -1350.7435243292275\n",
      " TEST VALUE : 24950, PREDICTED VALUE :  30119.041152456914 DIFFERENCE : -5169.041152456914\n",
      " TEST VALUE : 35495, PREDICTED VALUE :  34539.25124764697 DIFFERENCE : 955.748752353029\n",
      " TEST VALUE : 16990, PREDICTED VALUE :  17154.589382929596 DIFFERENCE : -164.58938292959647\n",
      " TEST VALUE : 29490, PREDICTED VALUE :  32128.287494556043 DIFFERENCE : -2638.2874945560434\n",
      " TEST VALUE : 49990, PREDICTED VALUE :  37857.635016971326 DIFFERENCE : 12132.364983028674\n",
      " TEST VALUE : 14995, PREDICTED VALUE :  15274.387612899722 DIFFERENCE : -279.3876128997217\n",
      " TEST VALUE : 22795, PREDICTED VALUE :  20810.75184587587 DIFFERENCE : 1984.2481541241286\n",
      " TEST VALUE : 14998, PREDICTED VALUE :  17608.98874170601 DIFFERENCE : -2610.988741706009\n",
      " TEST VALUE : 15300, PREDICTED VALUE :  13717.465930679158 DIFFERENCE : 1582.5340693208418\n",
      " TEST VALUE : 19498, PREDICTED VALUE :  20378.460591751398 DIFFERENCE : -880.4605917513982\n",
      " TEST VALUE : 23489, PREDICTED VALUE :  23572.635697362013 DIFFERENCE : -83.63569736201316\n"
     ]
    }
   ],
   "source": [
    "for i in range(20):\n",
    "    print(f' TEST VALUE : {y_test[i]}, PREDICTED VALUE :  {pred_lm[i]} DIFFERENCE : {y_test[i] - pred_lm[i]}')"
   ]
  },
  {
   "cell_type": "code",
   "execution_count": 138,
   "metadata": {},
   "outputs": [
    {
     "name": "stdout",
     "output_type": "stream",
     "text": [
      " TEST VALUE : 9990, PREDICTED VALUE :  8682.18 DIFFERENCE : 1307.8199999999997\n",
      " TEST VALUE : 22382, PREDICTED VALUE :  20427.62 DIFFERENCE : 1954.380000000001\n",
      " TEST VALUE : 28990, PREDICTED VALUE :  29520.41 DIFFERENCE : -530.4099999999999\n",
      " TEST VALUE : 30777, PREDICTED VALUE :  25839.083333333336 DIFFERENCE : 4937.916666666664\n",
      " TEST VALUE : 14950, PREDICTED VALUE :  16172.9 DIFFERENCE : -1222.8999999999996\n",
      " TEST VALUE : 24365, PREDICTED VALUE :  22242.9 DIFFERENCE : 2122.0999999999985\n",
      " TEST VALUE : 30495, PREDICTED VALUE :  31667.06 DIFFERENCE : -1172.0600000000013\n",
      " TEST VALUE : 29900, PREDICTED VALUE :  26211.3 DIFFERENCE : 3688.7000000000007\n",
      " TEST VALUE : 15256, PREDICTED VALUE :  15955.18 DIFFERENCE : -699.1800000000003\n",
      " TEST VALUE : 24950, PREDICTED VALUE :  23949.26 DIFFERENCE : 1000.7400000000016\n",
      " TEST VALUE : 35495, PREDICTED VALUE :  33567.21 DIFFERENCE : 1927.7900000000009\n",
      " TEST VALUE : 16990, PREDICTED VALUE :  17131.0 DIFFERENCE : -141.0\n",
      " TEST VALUE : 29490, PREDICTED VALUE :  31849.74 DIFFERENCE : -2359.7400000000016\n",
      " TEST VALUE : 49990, PREDICTED VALUE :  50552.93 DIFFERENCE : -562.9300000000003\n",
      " TEST VALUE : 14995, PREDICTED VALUE :  15832.08 DIFFERENCE : -837.0799999999999\n",
      " TEST VALUE : 22795, PREDICTED VALUE :  21682.12 DIFFERENCE : 1112.880000000001\n",
      " TEST VALUE : 14998, PREDICTED VALUE :  15060.32 DIFFERENCE : -62.31999999999971\n",
      " TEST VALUE : 15300, PREDICTED VALUE :  12250.99 DIFFERENCE : 3049.01\n",
      " TEST VALUE : 19498, PREDICTED VALUE :  19131.27 DIFFERENCE : 366.72999999999956\n",
      " TEST VALUE : 23489, PREDICTED VALUE :  21233.81 DIFFERENCE : 2255.1899999999987\n"
     ]
    }
   ],
   "source": [
    "for i in range(20):\n",
    "    print(f' TEST VALUE : {y_test[i]}, PREDICTED VALUE :  {pred_rf[i]} DIFFERENCE : {y_test[i] - pred_rf[i]}')"
   ]
  },
  {
   "cell_type": "code",
   "execution_count": 139,
   "metadata": {},
   "outputs": [
    {
     "data": {
      "text/plain": [
       "Index(['price', 'mileage', 'age', 'tax', 'mpg', 'engineSize', 'diesel_yn',\n",
       "       'petrol_yn', 'hybrid_yn', 'manual_yn', 'semi_automatic_yn',\n",
       "       'automatic_yn', 'A_Series_yn', 'T_Series_yn', 'S_Series_yn',\n",
       "       'R_Series_yn', 'Q_Series_yn'],\n",
       "      dtype='object')"
      ]
     },
     "execution_count": 139,
     "metadata": {},
     "output_type": "execute_result"
    }
   ],
   "source": [
    "df_dum.columns"
   ]
  },
  {
   "cell_type": "code",
   "execution_count": 140,
   "metadata": {},
   "outputs": [
    {
     "data": {
      "text/html": [
       "<div>\n",
       "<style scoped>\n",
       "    .dataframe tbody tr th:only-of-type {\n",
       "        vertical-align: middle;\n",
       "    }\n",
       "\n",
       "    .dataframe tbody tr th {\n",
       "        vertical-align: top;\n",
       "    }\n",
       "\n",
       "    .dataframe thead th {\n",
       "        text-align: right;\n",
       "    }\n",
       "</style>\n",
       "<table border=\"1\" class=\"dataframe\">\n",
       "  <thead>\n",
       "    <tr style=\"text-align: right;\">\n",
       "      <th></th>\n",
       "      <th>mileage</th>\n",
       "      <th>age</th>\n",
       "      <th>tax</th>\n",
       "      <th>mpg</th>\n",
       "      <th>engineSize</th>\n",
       "      <th>diesel_yn</th>\n",
       "      <th>petrol_yn</th>\n",
       "      <th>hybrid_yn</th>\n",
       "      <th>manual_yn</th>\n",
       "      <th>semi_automatic_yn</th>\n",
       "      <th>automatic_yn</th>\n",
       "      <th>A_Series_yn</th>\n",
       "      <th>T_Series_yn</th>\n",
       "      <th>S_Series_yn</th>\n",
       "      <th>R_Series_yn</th>\n",
       "      <th>Q_Series_yn</th>\n",
       "    </tr>\n",
       "  </thead>\n",
       "  <tbody>\n",
       "    <tr>\n",
       "      <th>10442</th>\n",
       "      <td>49500</td>\n",
       "      <td>8</td>\n",
       "      <td>30</td>\n",
       "      <td>62.8</td>\n",
       "      <td>2.0</td>\n",
       "      <td>1</td>\n",
       "      <td>0</td>\n",
       "      <td>0</td>\n",
       "      <td>1</td>\n",
       "      <td>0</td>\n",
       "      <td>0</td>\n",
       "      <td>1</td>\n",
       "      <td>0</td>\n",
       "      <td>0</td>\n",
       "      <td>0</td>\n",
       "      <td>0</td>\n",
       "    </tr>\n",
       "    <tr>\n",
       "      <th>2907</th>\n",
       "      <td>4352</td>\n",
       "      <td>1</td>\n",
       "      <td>145</td>\n",
       "      <td>51.4</td>\n",
       "      <td>1.6</td>\n",
       "      <td>1</td>\n",
       "      <td>0</td>\n",
       "      <td>0</td>\n",
       "      <td>1</td>\n",
       "      <td>0</td>\n",
       "      <td>0</td>\n",
       "      <td>1</td>\n",
       "      <td>0</td>\n",
       "      <td>0</td>\n",
       "      <td>0</td>\n",
       "      <td>0</td>\n",
       "    </tr>\n",
       "    <tr>\n",
       "      <th>7388</th>\n",
       "      <td>7000</td>\n",
       "      <td>1</td>\n",
       "      <td>150</td>\n",
       "      <td>47.9</td>\n",
       "      <td>2.0</td>\n",
       "      <td>1</td>\n",
       "      <td>0</td>\n",
       "      <td>0</td>\n",
       "      <td>0</td>\n",
       "      <td>1</td>\n",
       "      <td>0</td>\n",
       "      <td>1</td>\n",
       "      <td>0</td>\n",
       "      <td>0</td>\n",
       "      <td>0</td>\n",
       "      <td>0</td>\n",
       "    </tr>\n",
       "    <tr>\n",
       "      <th>3016</th>\n",
       "      <td>3925</td>\n",
       "      <td>0</td>\n",
       "      <td>145</td>\n",
       "      <td>44.1</td>\n",
       "      <td>1.5</td>\n",
       "      <td>0</td>\n",
       "      <td>1</td>\n",
       "      <td>0</td>\n",
       "      <td>0</td>\n",
       "      <td>1</td>\n",
       "      <td>0</td>\n",
       "      <td>1</td>\n",
       "      <td>0</td>\n",
       "      <td>0</td>\n",
       "      <td>0</td>\n",
       "      <td>0</td>\n",
       "    </tr>\n",
       "    <tr>\n",
       "      <th>7890</th>\n",
       "      <td>22000</td>\n",
       "      <td>4</td>\n",
       "      <td>145</td>\n",
       "      <td>51.4</td>\n",
       "      <td>1.4</td>\n",
       "      <td>0</td>\n",
       "      <td>1</td>\n",
       "      <td>0</td>\n",
       "      <td>1</td>\n",
       "      <td>0</td>\n",
       "      <td>0</td>\n",
       "      <td>1</td>\n",
       "      <td>0</td>\n",
       "      <td>0</td>\n",
       "      <td>0</td>\n",
       "      <td>0</td>\n",
       "    </tr>\n",
       "  </tbody>\n",
       "</table>\n",
       "</div>"
      ],
      "text/plain": [
       "       mileage  age  tax   mpg  engineSize  diesel_yn  petrol_yn  hybrid_yn  \\\n",
       "10442    49500    8   30  62.8         2.0          1          0          0   \n",
       "2907      4352    1  145  51.4         1.6          1          0          0   \n",
       "7388      7000    1  150  47.9         2.0          1          0          0   \n",
       "3016      3925    0  145  44.1         1.5          0          1          0   \n",
       "7890     22000    4  145  51.4         1.4          0          1          0   \n",
       "\n",
       "       manual_yn  semi_automatic_yn  automatic_yn  A_Series_yn  T_Series_yn  \\\n",
       "10442          1                  0             0            1            0   \n",
       "2907           1                  0             0            1            0   \n",
       "7388           0                  1             0            1            0   \n",
       "3016           0                  1             0            1            0   \n",
       "7890           1                  0             0            1            0   \n",
       "\n",
       "       S_Series_yn  R_Series_yn  Q_Series_yn  \n",
       "10442            0            0            0  \n",
       "2907             0            0            0  \n",
       "7388             0            0            0  \n",
       "3016             0            0            0  \n",
       "7890             0            0            0  "
      ]
     },
     "execution_count": 140,
     "metadata": {},
     "output_type": "execute_result"
    }
   ],
   "source": [
    "X_test.head()"
   ]
  },
  {
   "cell_type": "code",
   "execution_count": 141,
   "metadata": {},
   "outputs": [],
   "source": [
    "columns = ['price', 'mileage', 'age', 'tax', 'mpg', 'engineSize', 'diesel_yn',\n",
    "       'petrol_yn', 'hybrid_yn', 'manual_yn', 'semi_automatic_yn',\n",
    "       'automatic_yn', 'A_Series_yn', 'T_Series_yn', 'S_Series_yn',\n",
    "       'R_Series_yn', 'Q_Series_yn']"
   ]
  },
  {
   "cell_type": "code",
   "execution_count": 166,
   "metadata": {},
   "outputs": [],
   "source": [
    "values = [1000,115915,16,150,50,2,1,0,0,1,0,0,1,0,0,0,0]"
   ]
  },
  {
   "cell_type": "code",
   "execution_count": 169,
   "metadata": {},
   "outputs": [],
   "source": [
    "df = pd.DataFrame(columns=columns)"
   ]
  },
  {
   "cell_type": "code",
   "execution_count": 170,
   "metadata": {},
   "outputs": [
    {
     "data": {
      "text/html": [
       "<div>\n",
       "<style scoped>\n",
       "    .dataframe tbody tr th:only-of-type {\n",
       "        vertical-align: middle;\n",
       "    }\n",
       "\n",
       "    .dataframe tbody tr th {\n",
       "        vertical-align: top;\n",
       "    }\n",
       "\n",
       "    .dataframe thead th {\n",
       "        text-align: right;\n",
       "    }\n",
       "</style>\n",
       "<table border=\"1\" class=\"dataframe\">\n",
       "  <thead>\n",
       "    <tr style=\"text-align: right;\">\n",
       "      <th></th>\n",
       "      <th>price</th>\n",
       "      <th>mileage</th>\n",
       "      <th>age</th>\n",
       "      <th>tax</th>\n",
       "      <th>mpg</th>\n",
       "      <th>engineSize</th>\n",
       "      <th>diesel_yn</th>\n",
       "      <th>petrol_yn</th>\n",
       "      <th>hybrid_yn</th>\n",
       "      <th>manual_yn</th>\n",
       "      <th>semi_automatic_yn</th>\n",
       "      <th>automatic_yn</th>\n",
       "      <th>A_Series_yn</th>\n",
       "      <th>T_Series_yn</th>\n",
       "      <th>S_Series_yn</th>\n",
       "      <th>R_Series_yn</th>\n",
       "      <th>Q_Series_yn</th>\n",
       "    </tr>\n",
       "  </thead>\n",
       "  <tbody>\n",
       "  </tbody>\n",
       "</table>\n",
       "</div>"
      ],
      "text/plain": [
       "Empty DataFrame\n",
       "Columns: [price, mileage, age, tax, mpg, engineSize, diesel_yn, petrol_yn, hybrid_yn, manual_yn, semi_automatic_yn, automatic_yn, A_Series_yn, T_Series_yn, S_Series_yn, R_Series_yn, Q_Series_yn]\n",
       "Index: []"
      ]
     },
     "execution_count": 170,
     "metadata": {},
     "output_type": "execute_result"
    }
   ],
   "source": [
    "df.head()"
   ]
  },
  {
   "cell_type": "code",
   "execution_count": 171,
   "metadata": {},
   "outputs": [],
   "source": [
    "df.loc[-1] = values"
   ]
  },
  {
   "cell_type": "code",
   "execution_count": 172,
   "metadata": {},
   "outputs": [
    {
     "data": {
      "text/html": [
       "<div>\n",
       "<style scoped>\n",
       "    .dataframe tbody tr th:only-of-type {\n",
       "        vertical-align: middle;\n",
       "    }\n",
       "\n",
       "    .dataframe tbody tr th {\n",
       "        vertical-align: top;\n",
       "    }\n",
       "\n",
       "    .dataframe thead th {\n",
       "        text-align: right;\n",
       "    }\n",
       "</style>\n",
       "<table border=\"1\" class=\"dataframe\">\n",
       "  <thead>\n",
       "    <tr style=\"text-align: right;\">\n",
       "      <th></th>\n",
       "      <th>price</th>\n",
       "      <th>mileage</th>\n",
       "      <th>age</th>\n",
       "      <th>tax</th>\n",
       "      <th>mpg</th>\n",
       "      <th>engineSize</th>\n",
       "      <th>diesel_yn</th>\n",
       "      <th>petrol_yn</th>\n",
       "      <th>hybrid_yn</th>\n",
       "      <th>manual_yn</th>\n",
       "      <th>semi_automatic_yn</th>\n",
       "      <th>automatic_yn</th>\n",
       "      <th>A_Series_yn</th>\n",
       "      <th>T_Series_yn</th>\n",
       "      <th>S_Series_yn</th>\n",
       "      <th>R_Series_yn</th>\n",
       "      <th>Q_Series_yn</th>\n",
       "    </tr>\n",
       "  </thead>\n",
       "  <tbody>\n",
       "    <tr>\n",
       "      <th>-1</th>\n",
       "      <td>1000</td>\n",
       "      <td>115915</td>\n",
       "      <td>16</td>\n",
       "      <td>150</td>\n",
       "      <td>50</td>\n",
       "      <td>2</td>\n",
       "      <td>1</td>\n",
       "      <td>0</td>\n",
       "      <td>0</td>\n",
       "      <td>1</td>\n",
       "      <td>0</td>\n",
       "      <td>0</td>\n",
       "      <td>1</td>\n",
       "      <td>0</td>\n",
       "      <td>0</td>\n",
       "      <td>0</td>\n",
       "      <td>0</td>\n",
       "    </tr>\n",
       "  </tbody>\n",
       "</table>\n",
       "</div>"
      ],
      "text/plain": [
       "   price mileage age  tax mpg engineSize diesel_yn petrol_yn hybrid_yn  \\\n",
       "-1  1000  115915  16  150  50          2         1         0         0   \n",
       "\n",
       "   manual_yn semi_automatic_yn automatic_yn A_Series_yn T_Series_yn  \\\n",
       "-1         1                 0            0           1           0   \n",
       "\n",
       "   S_Series_yn R_Series_yn Q_Series_yn  \n",
       "-1           0           0           0  "
      ]
     },
     "execution_count": 172,
     "metadata": {},
     "output_type": "execute_result"
    }
   ],
   "source": [
    "df.head()"
   ]
  },
  {
   "cell_type": "code",
   "execution_count": 173,
   "metadata": {},
   "outputs": [],
   "source": [
    "df.index = df.index + 1"
   ]
  },
  {
   "cell_type": "code",
   "execution_count": 174,
   "metadata": {},
   "outputs": [
    {
     "data": {
      "text/html": [
       "<div>\n",
       "<style scoped>\n",
       "    .dataframe tbody tr th:only-of-type {\n",
       "        vertical-align: middle;\n",
       "    }\n",
       "\n",
       "    .dataframe tbody tr th {\n",
       "        vertical-align: top;\n",
       "    }\n",
       "\n",
       "    .dataframe thead th {\n",
       "        text-align: right;\n",
       "    }\n",
       "</style>\n",
       "<table border=\"1\" class=\"dataframe\">\n",
       "  <thead>\n",
       "    <tr style=\"text-align: right;\">\n",
       "      <th></th>\n",
       "      <th>price</th>\n",
       "      <th>mileage</th>\n",
       "      <th>age</th>\n",
       "      <th>tax</th>\n",
       "      <th>mpg</th>\n",
       "      <th>engineSize</th>\n",
       "      <th>diesel_yn</th>\n",
       "      <th>petrol_yn</th>\n",
       "      <th>hybrid_yn</th>\n",
       "      <th>manual_yn</th>\n",
       "      <th>semi_automatic_yn</th>\n",
       "      <th>automatic_yn</th>\n",
       "      <th>A_Series_yn</th>\n",
       "      <th>T_Series_yn</th>\n",
       "      <th>S_Series_yn</th>\n",
       "      <th>R_Series_yn</th>\n",
       "      <th>Q_Series_yn</th>\n",
       "    </tr>\n",
       "  </thead>\n",
       "  <tbody>\n",
       "    <tr>\n",
       "      <th>0</th>\n",
       "      <td>1000</td>\n",
       "      <td>115915</td>\n",
       "      <td>16</td>\n",
       "      <td>150</td>\n",
       "      <td>50</td>\n",
       "      <td>2</td>\n",
       "      <td>1</td>\n",
       "      <td>0</td>\n",
       "      <td>0</td>\n",
       "      <td>1</td>\n",
       "      <td>0</td>\n",
       "      <td>0</td>\n",
       "      <td>1</td>\n",
       "      <td>0</td>\n",
       "      <td>0</td>\n",
       "      <td>0</td>\n",
       "      <td>0</td>\n",
       "    </tr>\n",
       "  </tbody>\n",
       "</table>\n",
       "</div>"
      ],
      "text/plain": [
       "  price mileage age  tax mpg engineSize diesel_yn petrol_yn hybrid_yn  \\\n",
       "0  1000  115915  16  150  50          2         1         0         0   \n",
       "\n",
       "  manual_yn semi_automatic_yn automatic_yn A_Series_yn T_Series_yn  \\\n",
       "0         1                 0            0           1           0   \n",
       "\n",
       "  S_Series_yn R_Series_yn Q_Series_yn  \n",
       "0           0           0           0  "
      ]
     },
     "execution_count": 174,
     "metadata": {},
     "output_type": "execute_result"
    }
   ],
   "source": [
    "df.head()"
   ]
  },
  {
   "cell_type": "code",
   "execution_count": 175,
   "metadata": {},
   "outputs": [],
   "source": [
    "V_train = df.drop('price',axis=1)\n",
    "v_test = df.price.values"
   ]
  },
  {
   "cell_type": "code",
   "execution_count": 176,
   "metadata": {},
   "outputs": [
    {
     "data": {
      "text/html": [
       "<div>\n",
       "<style scoped>\n",
       "    .dataframe tbody tr th:only-of-type {\n",
       "        vertical-align: middle;\n",
       "    }\n",
       "\n",
       "    .dataframe tbody tr th {\n",
       "        vertical-align: top;\n",
       "    }\n",
       "\n",
       "    .dataframe thead th {\n",
       "        text-align: right;\n",
       "    }\n",
       "</style>\n",
       "<table border=\"1\" class=\"dataframe\">\n",
       "  <thead>\n",
       "    <tr style=\"text-align: right;\">\n",
       "      <th></th>\n",
       "      <th>mileage</th>\n",
       "      <th>age</th>\n",
       "      <th>tax</th>\n",
       "      <th>mpg</th>\n",
       "      <th>engineSize</th>\n",
       "      <th>diesel_yn</th>\n",
       "      <th>petrol_yn</th>\n",
       "      <th>hybrid_yn</th>\n",
       "      <th>manual_yn</th>\n",
       "      <th>semi_automatic_yn</th>\n",
       "      <th>automatic_yn</th>\n",
       "      <th>A_Series_yn</th>\n",
       "      <th>T_Series_yn</th>\n",
       "      <th>S_Series_yn</th>\n",
       "      <th>R_Series_yn</th>\n",
       "      <th>Q_Series_yn</th>\n",
       "    </tr>\n",
       "  </thead>\n",
       "  <tbody>\n",
       "    <tr>\n",
       "      <th>0</th>\n",
       "      <td>115915</td>\n",
       "      <td>16</td>\n",
       "      <td>150</td>\n",
       "      <td>50</td>\n",
       "      <td>2</td>\n",
       "      <td>1</td>\n",
       "      <td>0</td>\n",
       "      <td>0</td>\n",
       "      <td>1</td>\n",
       "      <td>0</td>\n",
       "      <td>0</td>\n",
       "      <td>1</td>\n",
       "      <td>0</td>\n",
       "      <td>0</td>\n",
       "      <td>0</td>\n",
       "      <td>0</td>\n",
       "    </tr>\n",
       "  </tbody>\n",
       "</table>\n",
       "</div>"
      ],
      "text/plain": [
       "  mileage age  tax mpg engineSize diesel_yn petrol_yn hybrid_yn manual_yn  \\\n",
       "0  115915  16  150  50          2         1         0         0         1   \n",
       "\n",
       "  semi_automatic_yn automatic_yn A_Series_yn T_Series_yn S_Series_yn  \\\n",
       "0                 0            0           1           0           0   \n",
       "\n",
       "  R_Series_yn Q_Series_yn  \n",
       "0           0           0  "
      ]
     },
     "execution_count": 176,
     "metadata": {},
     "output_type": "execute_result"
    }
   ],
   "source": [
    "V_train"
   ]
  },
  {
   "cell_type": "code",
   "execution_count": 177,
   "metadata": {},
   "outputs": [
    {
     "name": "stdout",
     "output_type": "stream",
     "text": [
      "[3590.4]\n"
     ]
    }
   ],
   "source": [
    "print(rf.predict(V_train))"
   ]
  },
  {
   "cell_type": "code",
   "execution_count": 178,
   "metadata": {},
   "outputs": [
    {
     "name": "stdout",
     "output_type": "stream",
     "text": [
      "MAE : 2590.4, RMSE :  2590.4\n"
     ]
    }
   ],
   "source": [
    "print(f'MAE : {(mean_absolute_error(v_test, rf.predict(V_train)))}, RMSE :  {np.sqrt((mean_squared_error(v_test, rf.predict(V_train))))}')"
   ]
  },
  {
   "cell_type": "markdown",
   "metadata": {},
   "source": [
    "#### I don't have enough data at the low price end to make a reasonable prediction of my own car! \n",
    "Would be nice for it to be worth what I predicted though :)\n"
   ]
  },
  {
   "cell_type": "code",
   "execution_count": null,
   "metadata": {},
   "outputs": [],
   "source": []
  }
 ],
 "metadata": {
  "kernelspec": {
   "display_name": "Python 3",
   "language": "python",
   "name": "python3"
  },
  "language_info": {
   "codemirror_mode": {
    "name": "ipython",
    "version": 3
   },
   "file_extension": ".py",
   "mimetype": "text/x-python",
   "name": "python",
   "nbconvert_exporter": "python",
   "pygments_lexer": "ipython3",
   "version": "3.7.3"
  }
 },
 "nbformat": 4,
 "nbformat_minor": 4
}
